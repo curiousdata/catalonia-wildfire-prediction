{
 "cells": [
  {
   "cell_type": "code",
   "execution_count": 2,
   "metadata": {},
   "outputs": [],
   "source": [
    "import xarray as xr\n",
    "import pandas as pd\n",
    "import logging"
   ]
  },
  {
   "cell_type": "code",
   "execution_count": 4,
   "metadata": {},
   "outputs": [],
   "source": [
    "# Load the NetCDF datacube with chunking\n",
    "ds = xr.open_dataset(\"/Users/vladimir/catalonia-wildfire-prediction/data/IberFire.nc\", chunks=\"auto\")"
   ]
  },
  {
   "cell_type": "code",
   "execution_count": 5,
   "metadata": {},
   "outputs": [
    {
     "name": "stdout",
     "output_type": "stream",
     "text": [
      "<xarray.Dataset> Size: 731GB\n",
      "Dimensions:                                        (y: 920, x: 1188, time: 6241)\n",
      "Coordinates:\n",
      "  * x                                              (x) float64 10kB 2.675e+06...\n",
      "  * y                                              (y) float64 7kB 2.492e+06 ...\n",
      "  * time                                           (time) datetime64[ns] 50kB ...\n",
      "Data variables: (12/261)\n",
      "    x_index                                        (y, x) uint16 2MB dask.array<chunksize=(920, 1188), meta=np.ndarray>\n",
      "    y_index                                        (y, x) uint16 2MB dask.array<chunksize=(920, 1188), meta=np.ndarray>\n",
      "    is_spain                                       (y, x) uint16 2MB dask.array<chunksize=(920, 1188), meta=np.ndarray>\n",
      "    is_fire                                        (time, y, x) uint8 7GB dask.array<chunksize=(1562, 230, 298), meta=np.ndarray>\n",
      "    is_near_fire                                   (time, y, x) uint8 7GB dask.array<chunksize=(1562, 230, 298), meta=np.ndarray>\n",
      "    x_coordinate                                   (y, x) float32 4MB dask.array<chunksize=(920, 1188), meta=np.ndarray>\n",
      "    ...                                             ...\n",
      "    LST                                            (time, y, x) float32 27GB dask.array<chunksize=(1042, 154, 198), meta=np.ndarray>\n",
      "    SWI_001                                        (time, y, x) float32 27GB dask.array<chunksize=(1042, 154, 198), meta=np.ndarray>\n",
      "    SWI_005                                        (time, y, x) float32 27GB dask.array<chunksize=(1042, 154, 198), meta=np.ndarray>\n",
      "    SWI_010                                        (time, y, x) float32 27GB dask.array<chunksize=(1042, 154, 198), meta=np.ndarray>\n",
      "    SWI_020                                        (time, y, x) float32 27GB dask.array<chunksize=(1042, 154, 198), meta=np.ndarray>\n",
      "    FWI                                            (time, y, x) float32 27GB dask.array<chunksize=(1042, 154, 198), meta=np.ndarray>\n",
      "Attributes: (12/17)\n",
      "    title:                IberFire\n",
      "    description:          Datacube centered in Spain with 1km x 1km spatial r...\n",
      "    dimensions:           (y: 920, x: 1188, time: 6241)\n",
      "    spatial_resolution:   1km x 1km\n",
      "    temporal_resolution:  Daily\n",
      "    start_date:           2007-12-01\n",
      "    ...                   ...\n",
      "    geospatial_x_max:     3861734.3466\n",
      "    geospatial_y_min:     1573195.9911000002\n",
      "    geospatial_y_max:     2492195.9911\n",
      "    author:               Julen Ercibengoa Calvo\n",
      "    author_contact:       julen.ercibengoa@gmail.com, julen.ercibengoa@teknik...\n",
      "    creation_date:        2025-04-04\n"
     ]
    }
   ],
   "source": [
    "print(ds)"
   ]
  }
 ],
 "metadata": {
  "kernelspec": {
   "display_name": ".venv",
   "language": "python",
   "name": "python3"
  },
  "language_info": {
   "codemirror_mode": {
    "name": "ipython",
    "version": 3
   },
   "file_extension": ".py",
   "mimetype": "text/x-python",
   "name": "python",
   "nbconvert_exporter": "python",
   "pygments_lexer": "ipython3",
   "version": "3.13.5"
  }
 },
 "nbformat": 4,
 "nbformat_minor": 2
}
