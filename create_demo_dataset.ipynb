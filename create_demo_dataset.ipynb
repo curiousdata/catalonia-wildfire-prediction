{
 "cells": [
  {
   "cell_type": "code",
   "execution_count": 2,
   "metadata": {},
   "outputs": [],
   "source": [
    "import xarray as xr\n",
    "import pandas as pd\n",
    "import logging"
   ]
  },
  {
   "cell_type": "code",
   "execution_count": 3,
   "metadata": {},
   "outputs": [],
   "source": [
    "ds = xr.open_dataset(\"data/iberfire_catalonia.nc\", chunks=\"auto\")"
   ]
  },
  {
   "cell_type": "code",
   "execution_count": 4,
   "metadata": {},
   "outputs": [],
   "source": [
    "# Select data from 2020 and onward\n",
    "ds_2020_onward = ds.sel(time=slice(\"2020-01-01\", None))"
   ]
  },
  {
   "cell_type": "code",
   "execution_count": 7,
   "metadata": {},
   "outputs": [
    {
     "name": "stdout",
     "output_type": "stream",
     "text": [
      "x_index: ('y', 'x')\n",
      "y_index: ('y', 'x')\n",
      "is_spain: ('y', 'x')\n",
      "is_fire: ('time', 'y', 'x')\n",
      "is_near_fire: ('time', 'y', 'x')\n",
      "x_coordinate: ('y', 'x')\n",
      "y_coordinate: ('y', 'x')\n",
      "is_sea: ('y', 'x')\n",
      "is_waterbody: ('y', 'x')\n",
      "AutonomousCommunities: ('y', 'x')\n",
      "CLC_2006_1: ('y', 'x')\n",
      "CLC_2006_2: ('y', 'x')\n",
      "CLC_2006_3: ('y', 'x')\n",
      "CLC_2006_4: ('y', 'x')\n",
      "CLC_2006_5: ('y', 'x')\n",
      "CLC_2006_6: ('y', 'x')\n",
      "CLC_2006_7: ('y', 'x')\n",
      "CLC_2006_8: ('y', 'x')\n",
      "CLC_2006_9: ('y', 'x')\n",
      "CLC_2006_10: ('y', 'x')\n",
      "CLC_2006_11: ('y', 'x')\n",
      "CLC_2006_12: ('y', 'x')\n",
      "CLC_2006_13: ('y', 'x')\n",
      "CLC_2006_14: ('y', 'x')\n",
      "CLC_2006_15: ('y', 'x')\n",
      "CLC_2006_16: ('y', 'x')\n",
      "CLC_2006_17: ('y', 'x')\n",
      "CLC_2006_18: ('y', 'x')\n",
      "CLC_2006_19: ('y', 'x')\n",
      "CLC_2006_20: ('y', 'x')\n",
      "CLC_2006_21: ('y', 'x')\n",
      "CLC_2006_22: ('y', 'x')\n",
      "CLC_2006_23: ('y', 'x')\n",
      "CLC_2006_24: ('y', 'x')\n",
      "CLC_2006_25: ('y', 'x')\n",
      "CLC_2006_26: ('y', 'x')\n",
      "CLC_2006_27: ('y', 'x')\n",
      "CLC_2006_28: ('y', 'x')\n",
      "CLC_2006_29: ('y', 'x')\n",
      "CLC_2006_30: ('y', 'x')\n",
      "CLC_2006_31: ('y', 'x')\n",
      "CLC_2006_32: ('y', 'x')\n",
      "CLC_2006_33: ('y', 'x')\n",
      "CLC_2006_34: ('y', 'x')\n",
      "CLC_2006_35: ('y', 'x')\n",
      "CLC_2006_36: ('y', 'x')\n",
      "CLC_2006_37: ('y', 'x')\n",
      "CLC_2006_38: ('y', 'x')\n",
      "CLC_2006_39: ('y', 'x')\n",
      "CLC_2006_40: ('y', 'x')\n",
      "CLC_2006_41: ('y', 'x')\n",
      "CLC_2006_42: ('y', 'x')\n",
      "CLC_2006_43: ('y', 'x')\n",
      "CLC_2006_44: ('y', 'x')\n",
      "CLC_2006_urban_fabric_proportion: ('y', 'x')\n",
      "CLC_2006_industrial_proportion: ('y', 'x')\n",
      "CLC_2006_mine_proportion: ('y', 'x')\n",
      "CLC_2006_artificial_vegetation_proportion: ('y', 'x')\n",
      "CLC_2006_arable_land_proportion: ('y', 'x')\n",
      "CLC_2006_permanent_crops_proportion: ('y', 'x')\n",
      "CLC_2006_heterogeneous_agriculture_proportion: ('y', 'x')\n",
      "CLC_2006_forest_proportion: ('y', 'x')\n",
      "CLC_2006_scrub_proportion: ('y', 'x')\n",
      "CLC_2006_open_space_proportion: ('y', 'x')\n",
      "CLC_2006_inland_wetlands_proportion: ('y', 'x')\n",
      "CLC_2006_maritime_wetlands_proportion: ('y', 'x')\n",
      "CLC_2006_inland_waters_proportion: ('y', 'x')\n",
      "CLC_2006_marine_waters_proportion: ('y', 'x')\n",
      "CLC_2006_artificial_proportion: ('y', 'x')\n",
      "CLC_2006_agricultural_proportion: ('y', 'x')\n",
      "CLC_2006_forest_and_semi_natural_proportion: ('y', 'x')\n",
      "CLC_2006_wetlands_proportion: ('y', 'x')\n",
      "CLC_2006_waterbody_proportion: ('y', 'x')\n",
      "CLC_2012_1: ('y', 'x')\n",
      "CLC_2012_2: ('y', 'x')\n",
      "CLC_2012_3: ('y', 'x')\n",
      "CLC_2012_4: ('y', 'x')\n",
      "CLC_2012_5: ('y', 'x')\n",
      "CLC_2012_6: ('y', 'x')\n",
      "CLC_2012_7: ('y', 'x')\n",
      "CLC_2012_8: ('y', 'x')\n",
      "CLC_2012_9: ('y', 'x')\n",
      "CLC_2012_10: ('y', 'x')\n",
      "CLC_2012_11: ('y', 'x')\n",
      "CLC_2012_12: ('y', 'x')\n",
      "CLC_2012_13: ('y', 'x')\n",
      "CLC_2012_14: ('y', 'x')\n",
      "CLC_2012_15: ('y', 'x')\n",
      "CLC_2012_16: ('y', 'x')\n",
      "CLC_2012_17: ('y', 'x')\n",
      "CLC_2012_18: ('y', 'x')\n",
      "CLC_2012_19: ('y', 'x')\n",
      "CLC_2012_20: ('y', 'x')\n",
      "CLC_2012_21: ('y', 'x')\n",
      "CLC_2012_22: ('y', 'x')\n",
      "CLC_2012_23: ('y', 'x')\n",
      "CLC_2012_24: ('y', 'x')\n",
      "CLC_2012_25: ('y', 'x')\n",
      "CLC_2012_26: ('y', 'x')\n",
      "CLC_2012_27: ('y', 'x')\n",
      "CLC_2012_28: ('y', 'x')\n",
      "CLC_2012_29: ('y', 'x')\n",
      "CLC_2012_30: ('y', 'x')\n",
      "CLC_2012_31: ('y', 'x')\n",
      "CLC_2012_32: ('y', 'x')\n",
      "CLC_2012_33: ('y', 'x')\n",
      "CLC_2012_34: ('y', 'x')\n",
      "CLC_2012_35: ('y', 'x')\n",
      "CLC_2012_36: ('y', 'x')\n",
      "CLC_2012_37: ('y', 'x')\n",
      "CLC_2012_38: ('y', 'x')\n",
      "CLC_2012_39: ('y', 'x')\n",
      "CLC_2012_40: ('y', 'x')\n",
      "CLC_2012_41: ('y', 'x')\n",
      "CLC_2012_42: ('y', 'x')\n",
      "CLC_2012_43: ('y', 'x')\n",
      "CLC_2012_44: ('y', 'x')\n",
      "CLC_2012_urban_fabric_proportion: ('y', 'x')\n",
      "CLC_2012_industrial_proportion: ('y', 'x')\n",
      "CLC_2012_mine_proportion: ('y', 'x')\n",
      "CLC_2012_artificial_vegetation_proportion: ('y', 'x')\n",
      "CLC_2012_arable_land_proportion: ('y', 'x')\n",
      "CLC_2012_permanent_crops_proportion: ('y', 'x')\n",
      "CLC_2012_heterogeneous_agriculture_proportion: ('y', 'x')\n",
      "CLC_2012_forest_proportion: ('y', 'x')\n",
      "CLC_2012_scrub_proportion: ('y', 'x')\n",
      "CLC_2012_open_space_proportion: ('y', 'x')\n",
      "CLC_2012_inland_wetlands_proportion: ('y', 'x')\n",
      "CLC_2012_maritime_wetlands_proportion: ('y', 'x')\n",
      "CLC_2012_inland_waters_proportion: ('y', 'x')\n",
      "CLC_2012_marine_waters_proportion: ('y', 'x')\n",
      "CLC_2012_artificial_proportion: ('y', 'x')\n",
      "CLC_2012_agricultural_proportion: ('y', 'x')\n",
      "CLC_2012_forest_and_semi_natural_proportion: ('y', 'x')\n",
      "CLC_2012_wetlands_proportion: ('y', 'x')\n",
      "CLC_2012_waterbody_proportion: ('y', 'x')\n",
      "CLC_2018_1: ('y', 'x')\n",
      "CLC_2018_2: ('y', 'x')\n",
      "CLC_2018_3: ('y', 'x')\n",
      "CLC_2018_4: ('y', 'x')\n",
      "CLC_2018_5: ('y', 'x')\n",
      "CLC_2018_6: ('y', 'x')\n",
      "CLC_2018_7: ('y', 'x')\n",
      "CLC_2018_8: ('y', 'x')\n",
      "CLC_2018_9: ('y', 'x')\n",
      "CLC_2018_10: ('y', 'x')\n",
      "CLC_2018_11: ('y', 'x')\n",
      "CLC_2018_12: ('y', 'x')\n",
      "CLC_2018_13: ('y', 'x')\n",
      "CLC_2018_14: ('y', 'x')\n",
      "CLC_2018_15: ('y', 'x')\n",
      "CLC_2018_16: ('y', 'x')\n",
      "CLC_2018_17: ('y', 'x')\n",
      "CLC_2018_18: ('y', 'x')\n",
      "CLC_2018_19: ('y', 'x')\n",
      "CLC_2018_20: ('y', 'x')\n",
      "CLC_2018_21: ('y', 'x')\n",
      "CLC_2018_22: ('y', 'x')\n",
      "CLC_2018_23: ('y', 'x')\n",
      "CLC_2018_24: ('y', 'x')\n",
      "CLC_2018_25: ('y', 'x')\n",
      "CLC_2018_26: ('y', 'x')\n",
      "CLC_2018_27: ('y', 'x')\n",
      "CLC_2018_28: ('y', 'x')\n",
      "CLC_2018_29: ('y', 'x')\n",
      "CLC_2018_30: ('y', 'x')\n",
      "CLC_2018_31: ('y', 'x')\n",
      "CLC_2018_32: ('y', 'x')\n",
      "CLC_2018_33: ('y', 'x')\n",
      "CLC_2018_34: ('y', 'x')\n",
      "CLC_2018_35: ('y', 'x')\n",
      "CLC_2018_36: ('y', 'x')\n",
      "CLC_2018_37: ('y', 'x')\n",
      "CLC_2018_38: ('y', 'x')\n",
      "CLC_2018_39: ('y', 'x')\n",
      "CLC_2018_40: ('y', 'x')\n",
      "CLC_2018_41: ('y', 'x')\n",
      "CLC_2018_42: ('y', 'x')\n",
      "CLC_2018_43: ('y', 'x')\n",
      "CLC_2018_44: ('y', 'x')\n",
      "CLC_2018_urban_fabric_proportion: ('y', 'x')\n",
      "CLC_2018_industrial_proportion: ('y', 'x')\n",
      "CLC_2018_mine_proportion: ('y', 'x')\n",
      "CLC_2018_artificial_vegetation_proportion: ('y', 'x')\n",
      "CLC_2018_arable_land_proportion: ('y', 'x')\n",
      "CLC_2018_permanent_crops_proportion: ('y', 'x')\n",
      "CLC_2018_heterogeneous_agriculture_proportion: ('y', 'x')\n",
      "CLC_2018_forest_proportion: ('y', 'x')\n",
      "CLC_2018_scrub_proportion: ('y', 'x')\n",
      "CLC_2018_open_space_proportion: ('y', 'x')\n",
      "CLC_2018_inland_wetlands_proportion: ('y', 'x')\n",
      "CLC_2018_maritime_wetlands_proportion: ('y', 'x')\n",
      "CLC_2018_inland_waters_proportion: ('y', 'x')\n",
      "CLC_2018_marine_waters_proportion: ('y', 'x')\n",
      "CLC_2018_artificial_proportion: ('y', 'x')\n",
      "CLC_2018_agricultural_proportion: ('y', 'x')\n",
      "CLC_2018_forest_and_semi_natural_proportion: ('y', 'x')\n",
      "CLC_2018_wetlands_proportion: ('y', 'x')\n",
      "CLC_2018_waterbody_proportion: ('y', 'x')\n",
      "aspect_1: ('y', 'x')\n",
      "aspect_2: ('y', 'x')\n",
      "aspect_3: ('y', 'x')\n",
      "aspect_4: ('y', 'x')\n",
      "aspect_5: ('y', 'x')\n",
      "aspect_6: ('y', 'x')\n",
      "aspect_7: ('y', 'x')\n",
      "aspect_8: ('y', 'x')\n",
      "aspect_NODATA: ('y', 'x')\n",
      "elevation_mean: ('y', 'x')\n",
      "elevation_stdev: ('y', 'x')\n",
      "slope_mean: ('y', 'x')\n",
      "slope_stdev: ('y', 'x')\n",
      "roughness_mean: ('y', 'x')\n",
      "roughness_stdev: ('y', 'x')\n",
      "dist_to_roads_mean: ('y', 'x')\n",
      "dist_to_roads_stdev: ('y', 'x')\n",
      "dist_to_waterways_mean: ('y', 'x')\n",
      "dist_to_waterways_stdev: ('y', 'x')\n",
      "dist_to_railways_mean: ('y', 'x')\n",
      "dist_to_railways_stdev: ('y', 'x')\n",
      "is_natura2000: ('y', 'x')\n",
      "popdens_2008: ('y', 'x')\n",
      "popdens_2009: ('y', 'x')\n",
      "popdens_2010: ('y', 'x')\n",
      "popdens_2011: ('y', 'x')\n",
      "popdens_2012: ('y', 'x')\n",
      "popdens_2013: ('y', 'x')\n",
      "popdens_2014: ('y', 'x')\n",
      "popdens_2015: ('y', 'x')\n",
      "popdens_2016: ('y', 'x')\n",
      "popdens_2017: ('y', 'x')\n",
      "popdens_2018: ('y', 'x')\n",
      "popdens_2019: ('y', 'x')\n",
      "popdens_2020: ('y', 'x')\n",
      "is_holiday: ('time', 'y', 'x')\n",
      "t2m_mean: ('time', 'y', 'x')\n",
      "t2m_max: ('time', 'y', 'x')\n",
      "t2m_min: ('time', 'y', 'x')\n",
      "t2m_range: ('time', 'y', 'x')\n",
      "RH_mean: ('time', 'y', 'x')\n",
      "RH_max: ('time', 'y', 'x')\n",
      "RH_min: ('time', 'y', 'x')\n",
      "RH_range: ('time', 'y', 'x')\n",
      "surface_pressure_mean: ('time', 'y', 'x')\n",
      "surface_pressure_max: ('time', 'y', 'x')\n",
      "surface_pressure_min: ('time', 'y', 'x')\n",
      "surface_pressure_range: ('time', 'y', 'x')\n",
      "total_precipitation_mean: ('time', 'y', 'x')\n",
      "wind_speed_mean: ('time', 'y', 'x')\n",
      "wind_speed_max: ('time', 'y', 'x')\n",
      "wind_direction_mean: ('time', 'y', 'x')\n",
      "wind_direction_at_max_speed: ('time', 'y', 'x')\n",
      "FAPAR: ('time', 'y', 'x')\n",
      "LAI: ('time', 'y', 'x')\n",
      "NDVI: ('time', 'y', 'x')\n",
      "LST: ('time', 'y', 'x')\n",
      "SWI_001: ('time', 'y', 'x')\n",
      "SWI_005: ('time', 'y', 'x')\n",
      "SWI_010: ('time', 'y', 'x')\n",
      "SWI_020: ('time', 'y', 'x')\n",
      "FWI: ('time', 'y', 'x')\n",
      "x: ('x',)\n",
      "y: ('y',)\n",
      "time: ('time',)\n"
     ]
    }
   ],
   "source": [
    "# List variable names and their dimensions\n",
    "for var_name, var in ds_2020_onward.variables.items():\n",
    "    print(f\"{var_name}: {var.dims}\")"
   ]
  },
  {
   "cell_type": "code",
   "execution_count": 8,
   "metadata": {},
   "outputs": [
    {
     "name": "stdout",
     "output_type": "stream",
     "text": [
      "<xarray.Dataset> Size: 4GB\n",
      "Dimensions:         (time: 1827, y: 255, x: 281)\n",
      "Coordinates:\n",
      "  * x               (x) float64 2kB 3.489e+06 3.49e+06 ... 3.768e+06 3.769e+06\n",
      "  * y               (y) float64 2kB 2.242e+06 2.241e+06 ... 1.989e+06 1.988e+06\n",
      "  * time            (time) datetime64[ns] 15kB 2020-01-01 ... 2024-12-31\n",
      "Data variables:\n",
      "    is_fire         (time, y, x) float32 524MB dask.array<chunksize=(896, 107, 118), meta=np.ndarray>\n",
      "    is_near_fire    (time, y, x) float32 524MB dask.array<chunksize=(896, 107, 118), meta=np.ndarray>\n",
      "    t2m_mean        (time, y, x) float32 524MB dask.array<chunksize=(896, 107, 118), meta=np.ndarray>\n",
      "    RH_mean         (time, y, x) float32 524MB dask.array<chunksize=(896, 107, 118), meta=np.ndarray>\n",
      "    FWI             (time, y, x) float32 524MB dask.array<chunksize=(896, 107, 118), meta=np.ndarray>\n",
      "    NDVI            (time, y, x) float32 524MB dask.array<chunksize=(896, 107, 118), meta=np.ndarray>\n",
      "    LAI             (time, y, x) float32 524MB dask.array<chunksize=(896, 107, 118), meta=np.ndarray>\n",
      "    elevation_mean  (y, x) float32 287kB dask.array<chunksize=(255, 281), meta=np.ndarray>\n",
      "    slope_mean      (y, x) float32 287kB dask.array<chunksize=(255, 281), meta=np.ndarray>\n",
      "Attributes: (12/17)\n",
      "    title:                IberFire\n",
      "    description:          Datacube centered in Spain with 1km x 1km spatial r...\n",
      "    dimensions:           (y: 920, x: 1188, time: 6241)\n",
      "    spatial_resolution:   1km x 1km\n",
      "    temporal_resolution:  Daily\n",
      "    start_date:           2007-12-01\n",
      "    ...                   ...\n",
      "    geospatial_x_max:     3861734.3466\n",
      "    geospatial_y_min:     1573195.9911000002\n",
      "    geospatial_y_max:     2492195.9911\n",
      "    author:               Julen Ercibengoa Calvo\n",
      "    author_contact:       julen.ercibengoa@gmail.com, julen.ercibengoa@teknik...\n",
      "    creation_date:        2025-04-04\n"
     ]
    }
   ],
   "source": [
    "# Select a subset of features\n",
    "selected_features = [\n",
    "    \"is_fire\", \"is_near_fire\",  # Fire-related\n",
    "    \"t2m_mean\", \"RH_mean\", \"FWI\",  # Weather\n",
    "    \"NDVI\", \"LAI\",  # Vegetation\n",
    "    \"elevation_mean\", \"slope_mean\"  # Terrain\n",
    "]\n",
    "\n",
    "# Filter the dataset to include only the selected features\n",
    "ds_filtered = ds_2020_onward[selected_features]\n",
    "\n",
    "# Display the filtered dataset\n",
    "print(ds_filtered)"
   ]
  },
  {
   "cell_type": "code",
   "execution_count": 9,
   "metadata": {},
   "outputs": [
    {
     "name": "stdout",
     "output_type": "stream",
     "text": [
      "Dataset saved as data/IberFire_demo.csv\n"
     ]
    }
   ],
   "source": [
    "# Convert the xarray dataset to a pandas DataFrame\n",
    "df_filtered = ds_filtered.to_dataframe().reset_index()\n",
    "\n",
    "# Save the DataFrame as a CSV file\n",
    "df_filtered.to_csv(\"data/IberFire_demo.csv\", index=False)\n",
    "\n",
    "print(\"Dataset saved as data/IberFire_demo.csv\")"
   ]
  },
  {
   "cell_type": "code",
   "execution_count": 10,
   "metadata": {},
   "outputs": [
    {
     "name": "stdout",
     "output_type": "stream",
     "text": [
      "         time             y             x  is_fire  is_near_fire  t2m_mean  \\\n",
      "0  2020-01-01  2.242196e+06  3.488734e+06      NaN           NaN       NaN   \n",
      "1  2020-01-01  2.242196e+06  3.489734e+06      NaN           NaN       NaN   \n",
      "2  2020-01-01  2.242196e+06  3.490734e+06      NaN           NaN       NaN   \n",
      "3  2020-01-01  2.242196e+06  3.491734e+06      NaN           NaN       NaN   \n",
      "4  2020-01-01  2.242196e+06  3.492734e+06      NaN           NaN       NaN   \n",
      "\n",
      "   RH_mean  FWI  NDVI  LAI  elevation_mean  slope_mean  \n",
      "0      NaN  NaN   NaN  NaN             NaN         NaN  \n",
      "1      NaN  NaN   NaN  NaN             NaN         NaN  \n",
      "2      NaN  NaN   NaN  NaN             NaN         NaN  \n",
      "3      NaN  NaN   NaN  NaN             NaN         NaN  \n",
      "4      NaN  NaN   NaN  NaN             NaN         NaN  \n"
     ]
    }
   ],
   "source": [
    "# load the saved CSV to verify\n",
    "df_loaded = pd.read_csv(\"data/IberFire_demo.csv\")\n",
    "# Display the first few rows of the loaded DataFrame\n",
    "print(df_loaded.head())"
   ]
  },
  {
   "cell_type": "code",
   "execution_count": 11,
   "metadata": {},
   "outputs": [
    {
     "data": {
      "text/plain": [
       "time                     0\n",
       "y                        0\n",
       "x                        0\n",
       "is_fire           72263331\n",
       "is_near_fire      72263331\n",
       "t2m_mean          72782199\n",
       "RH_mean           72782199\n",
       "FWI               72263331\n",
       "NDVI              72526742\n",
       "LAI               72847271\n",
       "elevation_mean    72263331\n",
       "slope_mean        72263331\n",
       "dtype: int64"
      ]
     },
     "execution_count": 11,
     "metadata": {},
     "output_type": "execute_result"
    }
   ],
   "source": [
    "# see if there are any na values\n",
    "df_loaded.isna().sum()"
   ]
  },
  {
   "cell_type": "code",
   "execution_count": 12,
   "metadata": {},
   "outputs": [
    {
     "data": {
      "text/plain": [
       "(130913685, 12)"
      ]
     },
     "execution_count": 12,
     "metadata": {},
     "output_type": "execute_result"
    }
   ],
   "source": [
    "df_loaded.shape"
   ]
  },
  {
   "cell_type": "code",
   "execution_count": 13,
   "metadata": {},
   "outputs": [
    {
     "name": "stdout",
     "output_type": "stream",
     "text": [
      "Total elements: 1570964220\n",
      "Total NaNs: 652255066\n",
      "Percentage of NaNs: 41.52%\n"
     ]
    }
   ],
   "source": [
    "# Calculate the total number of elements in the dataset\n",
    "total_elements = df_loaded.size\n",
    "\n",
    "# Calculate the total number of NaN values\n",
    "total_nans = df_loaded.isna().sum().sum()\n",
    "\n",
    "# Calculate the percentage of NaN values\n",
    "nan_percentage = (total_nans / total_elements) * 100\n",
    "\n",
    "print(f\"Total elements: {total_elements}\")\n",
    "print(f\"Total NaNs: {total_nans}\")\n",
    "print(f\"Percentage of NaNs: {nan_percentage:.2f}%\")"
   ]
  },
  {
   "cell_type": "code",
   "execution_count": 15,
   "metadata": {
    "vscode": {
     "languageId": "markdown"
    }
   },
   "outputs": [
    {
     "name": "stdout",
     "output_type": "stream",
     "text": [
      "Total elements in df_filtered: 1570964220\n",
      "Total NaNs in df_filtered: 652255066\n",
      "Percentage of NaNs in df_filtered: 41.52%\n"
     ]
    }
   ],
   "source": [
    "# Calculate the total number of elements in df_filtered\n",
    "total_elements_filtered = df_filtered.size\n",
    "\n",
    "# Calculate the total number of NaN values in df_filtered\n",
    "total_nans_filtered = df_filtered.isna().sum().sum()\n",
    "\n",
    "# Calculate the percentage of NaN values in df_filtered\n",
    "nan_percentage_filtered = (total_nans_filtered / total_elements_filtered) * 100\n",
    "\n",
    "print(f\"Total elements in df_filtered: {total_elements_filtered}\")\n",
    "print(f\"Total NaNs in df_filtered: {total_nans_filtered}\")\n",
    "print(f\"Percentage of NaNs in df_filtered: {nan_percentage_filtered:.2f}%\")"
   ]
  },
  {
   "cell_type": "code",
   "execution_count": 19,
   "metadata": {
    "vscode": {
     "languageId": "markdown"
    }
   },
   "outputs": [
    {
     "ename": "AttributeError",
     "evalue": "'Dataset' object has no attribute 'size'",
     "output_type": "error",
     "traceback": [
      "\u001b[31m---------------------------------------------------------------------------\u001b[39m",
      "\u001b[31mAttributeError\u001b[39m                            Traceback (most recent call last)",
      "\u001b[36mCell\u001b[39m\u001b[36m \u001b[39m\u001b[32mIn[19]\u001b[39m\u001b[32m, line 2\u001b[39m\n\u001b[32m      1\u001b[39m \u001b[38;5;66;03m# Calculate the total number of elements in the xarray dataset\u001b[39;00m\n\u001b[32m----> \u001b[39m\u001b[32m2\u001b[39m total_elements_filtered = \u001b[43mds\u001b[49m\u001b[43m.\u001b[49m\u001b[43msize\u001b[49m\n\u001b[32m      4\u001b[39m \u001b[38;5;66;03m# Calculate the total number of NaN values in the xarray dataset\u001b[39;00m\n\u001b[32m      5\u001b[39m total_nans_filtered = ds.isnull().sum().item()\n",
      "\u001b[36mFile \u001b[39m\u001b[32m~/catalonia-wildfire-prediction/.venv/lib/python3.13/site-packages/xarray/core/common.py:306\u001b[39m, in \u001b[36mAttrAccessMixin.__getattr__\u001b[39m\u001b[34m(self, name)\u001b[39m\n\u001b[32m    304\u001b[39m         \u001b[38;5;28;01mwith\u001b[39;00m suppress(\u001b[38;5;167;01mKeyError\u001b[39;00m):\n\u001b[32m    305\u001b[39m             \u001b[38;5;28;01mreturn\u001b[39;00m source[name]\n\u001b[32m--> \u001b[39m\u001b[32m306\u001b[39m \u001b[38;5;28;01mraise\u001b[39;00m \u001b[38;5;167;01mAttributeError\u001b[39;00m(\n\u001b[32m    307\u001b[39m     \u001b[33mf\u001b[39m\u001b[33m\"\u001b[39m\u001b[38;5;132;01m{\u001b[39;00m\u001b[38;5;28mtype\u001b[39m(\u001b[38;5;28mself\u001b[39m).\u001b[34m__name__\u001b[39m\u001b[38;5;132;01m!r}\u001b[39;00m\u001b[33m object has no attribute \u001b[39m\u001b[38;5;132;01m{\u001b[39;00mname\u001b[38;5;132;01m!r}\u001b[39;00m\u001b[33m\"\u001b[39m\n\u001b[32m    308\u001b[39m )\n",
      "\u001b[31mAttributeError\u001b[39m: 'Dataset' object has no attribute 'size'"
     ]
    }
   ],
   "source": [
    "# Calculate the total number of elements in the xarray dataset\n",
    "total_elements_filtered = ds.size\n",
    "\n",
    "# Calculate the total number of NaN values in the xarray dataset\n",
    "total_nans_filtered = ds.isnull().sum().item()\n",
    "\n",
    "# Calculate the percentage of NaN values in the xarray dataset\n",
    "nan_percentage_filtered = (total_nans_filtered / total_elements_filtered) * 100\n",
    "\n",
    "print(f\"Total elements in ds: {total_elements_filtered}\")\n",
    "print(f\"Total NaNs in ds: {total_nans_filtered}\")\n",
    "print(f\"Percentage of NaNs in ds: {nan_percentage_filtered:.2f}%\")"
   ]
  }
 ],
 "metadata": {
  "kernelspec": {
   "display_name": ".venv",
   "language": "python",
   "name": "python3"
  },
  "language_info": {
   "codemirror_mode": {
    "name": "ipython",
    "version": 3
   },
   "file_extension": ".py",
   "mimetype": "text/x-python",
   "name": "python",
   "nbconvert_exporter": "python",
   "pygments_lexer": "ipython3",
   "version": "3.13.5"
  }
 },
 "nbformat": 4,
 "nbformat_minor": 2
}
