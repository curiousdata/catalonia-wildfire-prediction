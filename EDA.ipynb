{
 "cells": [
  {
   "cell_type": "code",
   "execution_count": 1,
   "metadata": {},
   "outputs": [
    {
     "name": "stdout",
     "output_type": "stream",
     "text": [
      "=== CATALONIA WILDFIRE DATASET - COMPREHENSIVE EDA ===\n",
      "\n"
     ]
    }
   ],
   "source": [
    "import xarray as xr\n",
    "import pandas as pd\n",
    "import numpy as np\n",
    "import matplotlib.pyplot as plt\n",
    "import seaborn as sns\n",
    "from pathlib import Path\n",
    "\n",
    "print(\"=== CATALONIA WILDFIRE DATASET - COMPREHENSIVE EDA ===\\n\")\n",
    "\n",
    "# Set up plotting\n",
    "plt.style.use('default')\n",
    "sns.set_palette(\"husl\")"
   ]
  },
  {
   "cell_type": "code",
   "execution_count": 2,
   "metadata": {},
   "outputs": [
    {
     "name": "stdout",
     "output_type": "stream",
     "text": [
      "Loading demo dataset...\n",
      "✗ Demo dataset not found\n",
      "✗ Demo parquet not found\n"
     ]
    }
   ],
   "source": [
    "# Load the demo dataset (the processed one currently used)\n",
    "print(\"Loading demo dataset...\")\n",
    "try:\n",
    "    ds_demo = xr.open_dataset(\"data/IberFire_demo.nc\", chunks={'time': 100})\n",
    "    print(f\"✓ Demo dataset loaded: {ds_demo.dims}\")\n",
    "except FileNotFoundError:\n",
    "    print(\"✗ Demo dataset not found\")\n",
    "    ds_demo = None\n",
    "\n",
    "# Load the parquet version\n",
    "try:\n",
    "    df_demo = pd.read_parquet(\"data/IberFire_demo.parquet\")\n",
    "    print(f\"✓ Demo parquet loaded: {df_demo.shape}\")\n",
    "except FileNotFoundError:\n",
    "    print(\"✗ Demo parquet not found\")\n",
    "    df_demo = None"
   ]
  },
  {
   "cell_type": "code",
   "execution_count": 3,
   "metadata": {},
   "outputs": [
    {
     "name": "stdout",
     "output_type": "stream",
     "text": [
      "\n",
      "Loading original Catalonia dataset...\n",
      "✗ Full Catalonia dataset not found\n"
     ]
    }
   ],
   "source": [
    "# Load the original Catalonia dataset to understand the full scope\n",
    "print(\"\\nLoading original Catalonia dataset...\")\n",
    "try:\n",
    "    ds_full = xr.open_dataset(\"data/iberfire_catalonia.nc\", chunks='auto')\n",
    "    print(f\"✓ Full Catalonia dataset loaded: {ds_full.dims}\")\n",
    "    print(f\"Time range: {ds_full.time.min().values} to {ds_full.time.max().values}\")\n",
    "    print(f\"Variables: {len(ds_full.data_vars)} total\")\n",
    "except FileNotFoundError:\n",
    "    print(\"✗ Full Catalonia dataset not found\")\n",
    "    ds_full = None"
   ]
  },
  {
   "cell_type": "code",
   "execution_count": null,
   "metadata": {},
   "outputs": [],
   "source": [
    "# === BASIC DATASET INFORMATION ===\n",
    "print(\"\\n\" + \"=\"*50)\n",
    "print(\"BASIC DATASET INFORMATION\")\n",
    "print(\"=\"*50)\n",
    "\n",
    "if ds_demo is not None:\n",
    "    print(f\"Demo Dataset Dimensions: {dict(ds_demo.dims)}\")\n",
    "    print(f\"Demo Dataset Size: {ds_demo.nbytes / 1e9:.2f} GB\")\n",
    "    print(f\"Spatial extent: X[{ds_demo.x.min().values:.0f}, {ds_demo.x.max().values:.0f}], Y[{ds_demo.y.min().values:.0f}, {ds_demo.y.max().values:.0f}]\")\n",
    "    print(f\"Coordinate System: EPSG:3035 (European grid)\")\n",
    "    print(f\"Temporal coverage: {len(ds_demo.time)} days from {ds_demo.time.min().values} to {ds_demo.time.max().values}\")\n",
    "\n",
    "if ds_full is not None:\n",
    "    print(f\"\\nFull Dataset Dimensions: {dict(ds_full.dims)}\")\n",
    "    print(f\"Available variables: {len(ds_full.data_vars)}\")"
   ]
  },
  {
   "cell_type": "code",
   "execution_count": null,
   "metadata": {},
   "outputs": [],
   "source": [
    "# === TEMPORAL NaN PATTERNS ===\n",
    "print(\"\\n\" + \"=\"*50)\n",
    "print(\"TEMPORAL NaN PATTERNS\")\n",
    "print(\"=\"*50)\n",
    "\n",
    "if ds_demo is not None:\n",
    "    # Sample subset for analysis (every 10th pixel to reduce computation)\n",
    "    sample_ds = ds_demo.isel(x=slice(0, None, 10), y=slice(0, None, 10))\n",
    "    \n",
    "    # Calculate NaN percentage by time for key variables\n",
    "    key_vars = ['t2m_mean', 'RH_mean', 'FWI', 'NDVI', 'LAI']\n",
    "    temporal_nan = {}\n",
    "    \n",
    "    for var in key_vars:\n",
    "        if var in sample_ds.data_vars:\n",
    "            # Compute NaN percentage across space for each time step\n",
    "            nan_by_time = sample_ds[var].isnull().mean(dim=['x', 'y']).compute()\n",
    "            temporal_nan[var] = nan_by_time\n",
    "            \n",
    "            # Show statistics\n",
    "            print(f\"{var}:\")\n",
    "            print(f\"  Days with >50% NaN: {(nan_by_time > 0.5).sum().values}\")\n",
    "            print(f\"  Days with >90% NaN: {(nan_by_time > 0.9).sum().values}\")\n",
    "            print(f\"  Days with 0% NaN: {(nan_by_time == 0).sum().values}\")"
   ]
  }
 ],
 "metadata": {
  "kernelspec": {
   "display_name": ".venv",
   "language": "python",
   "name": "python3"
  },
  "language_info": {
   "codemirror_mode": {
    "name": "ipython",
    "version": 3
   },
   "file_extension": ".py",
   "mimetype": "text/x-python",
   "name": "python",
   "nbconvert_exporter": "python",
   "pygments_lexer": "ipython3",
   "version": "3.13.5"
  }
 },
 "nbformat": 4,
 "nbformat_minor": 2
}
