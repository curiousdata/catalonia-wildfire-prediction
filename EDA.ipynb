{
 "cells": [
  {
   "cell_type": "code",
   "execution_count": 1,
   "metadata": {},
   "outputs": [
    {
     "name": "stdout",
     "output_type": "stream",
     "text": [
      "=== CATALONIA WILDFIRE DATASET - COMPREHENSIVE EDA ===\n",
      "\n"
     ]
    }
   ],
   "source": [
    "import xarray as xr\n",
    "import pandas as pd\n",
    "import numpy as np\n",
    "import matplotlib.pyplot as plt\n",
    "import seaborn as sns\n",
    "from pathlib import Path\n",
    "\n",
    "print(\"=== CATALONIA WILDFIRE DATASET - COMPREHENSIVE EDA ===\\n\")\n",
    "\n",
    "# Set up plotting\n",
    "plt.style.use('default')\n",
    "sns.set_palette(\"husl\")"
   ]
  },
  {
   "cell_type": "code",
   "execution_count": 2,
   "metadata": {},
   "outputs": [],
   "source": [
    "# Access the full dataset\n",
    "DATASET_PATH = Path(\"data/IberFire.nc\")\n",
    "ds = xr.open_dataset(DATASET_PATH)"
   ]
  },
  {
   "cell_type": "code",
   "execution_count": 3,
   "metadata": {},
   "outputs": [
    {
     "name": "stdout",
     "output_type": "stream",
     "text": [
      "=== BASIC DATASET INFO ===\n",
      "Dataset dimensions: {'y': 920, 'x': 1188, 'time': 6241}\n",
      "Dataset size: 730.86 GB\n",
      "Number of variables: 261\n",
      "Coordinates: ['x', 'y', 'time']\n"
     ]
    }
   ],
   "source": [
    "# Basic dataset overview\n",
    "print(\"=== BASIC DATASET INFO ===\")\n",
    "print(f\"Dataset dimensions: {dict(ds.sizes)}\")\n",
    "print(f\"Dataset size: {ds.nbytes / 1e9:.2f} GB\")\n",
    "print(f\"Number of variables: {len(ds.data_vars)}\")\n",
    "print(f\"Coordinates: {list(ds.coords)}\")"
   ]
  },
  {
   "cell_type": "code",
   "execution_count": 4,
   "metadata": {},
   "outputs": [
    {
     "name": "stdout",
     "output_type": "stream",
     "text": [
      "<xarray.Dataset> Size: 731GB\n",
      "Dimensions:                                        (y: 920, x: 1188, time: 6241)\n",
      "Coordinates:\n",
      "  * x                                              (x) float64 10kB 2.675e+06...\n",
      "  * y                                              (y) float64 7kB 2.492e+06 ...\n",
      "  * time                                           (time) datetime64[ns] 50kB ...\n",
      "Data variables: (12/261)\n",
      "    x_index                                        (y, x) uint16 2MB ...\n",
      "    y_index                                        (y, x) uint16 2MB ...\n",
      "    is_spain                                       (y, x) uint16 2MB ...\n",
      "    is_fire                                        (time, y, x) uint8 7GB ...\n",
      "    is_near_fire                                   (time, y, x) uint8 7GB ...\n",
      "    x_coordinate                                   (y, x) float32 4MB ...\n",
      "    ...                                             ...\n",
      "    LST                                            (time, y, x) float32 27GB ...\n",
      "    SWI_001                                        (time, y, x) float32 27GB ...\n",
      "    SWI_005                                        (time, y, x) float32 27GB ...\n",
      "    SWI_010                                        (time, y, x) float32 27GB ...\n",
      "    SWI_020                                        (time, y, x) float32 27GB ...\n",
      "    FWI                                            (time, y, x) float32 27GB ...\n",
      "Attributes: (12/17)\n",
      "    title:                IberFire\n",
      "    description:          Datacube centered in Spain with 1km x 1km spatial r...\n",
      "    dimensions:           (y: 920, x: 1188, time: 6241)\n",
      "    spatial_resolution:   1km x 1km\n",
      "    temporal_resolution:  Daily\n",
      "    start_date:           2007-12-01\n",
      "    ...                   ...\n",
      "    geospatial_x_max:     3861734.3466\n",
      "    geospatial_y_min:     1573195.9911000002\n",
      "    geospatial_y_max:     2492195.9911\n",
      "    author:               Julen Ercibengoa Calvo\n",
      "    author_contact:       julen.ercibengoa@gmail.com, julen.ercibengoa@teknik...\n",
      "    creation_date:        2025-04-04\n"
     ]
    }
   ],
   "source": [
    "print(ds)"
   ]
  },
  {
   "cell_type": "code",
   "execution_count": 5,
   "metadata": {},
   "outputs": [],
   "source": [
    "spain_mask = (ds['is_spain'] == 1).compute()"
   ]
  }
 ],
 "metadata": {
  "kernelspec": {
   "display_name": ".venv",
   "language": "python",
   "name": "python3"
  },
  "language_info": {
   "codemirror_mode": {
    "name": "ipython",
    "version": 3
   },
   "file_extension": ".py",
   "mimetype": "text/x-python",
   "name": "python",
   "nbconvert_exporter": "python",
   "pygments_lexer": "ipython3",
   "version": "3.13.5"
  }
 },
 "nbformat": 4,
 "nbformat_minor": 2
}
