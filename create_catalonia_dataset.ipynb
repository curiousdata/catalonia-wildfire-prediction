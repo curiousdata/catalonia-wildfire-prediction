{
 "cells": [
  {
   "cell_type": "code",
   "execution_count": 1,
   "metadata": {},
   "outputs": [],
   "source": [
    "import xarray as xr\n",
    "import pandas as pd\n",
    "import logging"
   ]
  },
  {
   "cell_type": "code",
   "execution_count": 2,
   "metadata": {},
   "outputs": [],
   "source": [
    "# Load the NetCDF datacube with chunking\n",
    "ds = xr.open_dataset(\"data/IberFire.nc\", chunks=\"auto\")"
   ]
  },
  {
   "cell_type": "code",
   "execution_count": null,
   "metadata": {},
   "outputs": [],
   "source": [
    "# Define the Catalonia code\n",
    "CATALONIA_CODE = 9\n",
    "\n",
    "# Mask for Catalonia\n",
    "mask_catalonia = (ds[\"AutonomousCommunities\"] == CATALONIA_CODE).compute()\n",
    "\n",
    "# Apply the mask and time range\n",
    "ds_catalonia = ds.where(mask_catalonia, drop=True)\n",
    "\n",
    "# Save the sliced dataset to a new NetCDF file\n",
    "output_path = \"data/iberfire_catalonia.nc\"\n",
    "ds_catalonia.to_netcdf(output_path)\n",
    "\n",
    "logging.info(f\"Saved Catalonia data to {output_path}\")"
   ]
  }
 ],
 "metadata": {
  "kernelspec": {
   "display_name": ".venv",
   "language": "python",
   "name": "python3"
  },
  "language_info": {
   "codemirror_mode": {
    "name": "ipython",
    "version": 3
   },
   "file_extension": ".py",
   "mimetype": "text/x-python",
   "name": "python",
   "nbconvert_exporter": "python",
   "pygments_lexer": "ipython3",
   "version": "3.13.5"
  }
 },
 "nbformat": 4,
 "nbformat_minor": 2
}
